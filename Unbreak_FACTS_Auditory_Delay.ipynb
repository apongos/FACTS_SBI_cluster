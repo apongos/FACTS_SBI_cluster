{
 "cells": [
  {
   "cell_type": "code",
   "execution_count": 1,
   "id": "0db93a38",
   "metadata": {},
   "outputs": [],
   "source": [
    "import sys\n",
    "import torch\n",
    "import global_variables as gv\n",
    "import sys\n",
    "import numpy as np\n",
    "import matplotlib.pyplot as plt\n",
    "import configparser\n",
    "from FACTS_Modules.Model import model_factory\n",
    "from FACTS_Modules.util import string2dtype_array\n",
    "from FACTS_Modules.TADA import MakeGestScore\n",
    "from facts_visualizations import single_trial_plots, multi_trial_plots\n",
    "import os \n",
    "import pdb\n",
    "import seaborn as sns"
   ]
  },
  {
   "cell_type": "code",
   "execution_count": 2,
   "id": "3cf45719",
   "metadata": {},
   "outputs": [],
   "source": [
    "def FACTS(theta):\n",
    "    ini='DesignC_AUKF_onlinepertdelay_SBI.ini'\n",
    "    gFile='GesturalScores/KimetalOnlinepert2.G'\n",
    "    config = configparser.ConfigParser()\n",
    "    config.read(ini)\n",
    "\n",
    "    # Replace the parameter value from ini file\n",
    "    #pdb.set_trace()\n",
    "    try:\n",
    "        if theta.dim() > 1:\n",
    "            config['SensoryNoise']['Auditory_sensor_scale'] = str(theta[0][0].item())\n",
    "            config['SensoryNoise']['Somato_sensor_scale'] = str(theta[0][1].item())\n",
    "            \n",
    "            config['TaskStateEstimator']['process_scale'] = str(theta[0][2].item())\n",
    "            config['TaskStateEstimator']['covariance_scale'] = str(theta[0][3].item())\n",
    "            config['ArticStateEstimator']['process_scale'] = str(theta[0][4].item())\n",
    "            config['ArticStateEstimator']['covariance_scale'] = str(theta[0][5].item())\n",
    "\n",
    "            config['SensoryDelay']['Auditory_delay'] = str(theta[0][6].item())\n",
    "            config['SensoryDelay']['Somato_delay'] = str(theta[0][7].item())\n",
    "            config['TaskStateEstimator']['cc_discount_from_delay'] = str(theta[0][8].item())\n",
    "            \n",
    "#             config['TaskStateEstimator']['estimated_auditory_delay'] = str(theta[0][6].item())\n",
    "#             config['ArticStateEstimator']['estimated_somat_delay'] = str(theta[0][7].item())\n",
    "            \n",
    "        else:\n",
    "            #pdb.set_trace()\n",
    "            config['SensoryNoise']['Auditory_sensor_scale'] = str(theta[0].item())\n",
    "            config['SensoryNoise']['Somato_sensor_scale'] = str(theta[1].item())\n",
    "            \n",
    "            config['TaskStateEstimator']['process_scale'] = str(theta[2].item())\n",
    "            config['TaskStateEstimator']['covariance_scale'] = str(theta[3].item())\n",
    "            config['ArticStateEstimator']['process_scale'] = str(theta[4].item())\n",
    "            config['ArticStateEstimator']['covariance_scale'] = str(theta[5].item())\n",
    "\n",
    "            config['SensoryDelay']['Auditory_delay'] = str(theta[6].item())\n",
    "            config['SensoryDelay']['Somato_delay'] = str(theta[7].item())\n",
    "            config['TaskStateEstimator']['cc_discount_from_delay'] = str(theta[8].item())\n",
    "\n",
    "        # Note from Alvince, need to pass this in   \n",
    "        config['TaskStateEstimator']['Auditory_delay']  = config['SensoryDelay']['Auditory_delay'] \n",
    "        config['ArticStateEstimator']['Somato_delay']  = config['SensoryDelay']['Somato_delay'] \n",
    "    except:\n",
    "        pdb.set_trace()\n",
    "\n",
    "    model = model_factory(config)\n",
    "    #pdb.set_trace()\n",
    "    if 'MultTrials' in config.sections(): \n",
    "        ntrials = int(config['MultTrials']['ntrials'])\n",
    "        target_noise= float(config['MultTrials']['Target_noise'])\n",
    "    else: \n",
    "        ntrials = 1\n",
    "        target_noise = 0\n",
    "\n",
    "    #pdb.set_trace()\n",
    "    gest_name = gFile.split('/')[-1].split('/')[-1]\n",
    "    np.random.seed(100)\n",
    "    GestScore, ART, ms_frm, last_frm = MakeGestScore(gFile,target_noise)\n",
    "    \n",
    "    # initialize vectors to monitor position at each timestep\n",
    "    buffer_size = int(float(config['SensoryDelay']['Auditory_delay']) / 5)  # default used to be 20\n",
    "    x_tilde_delaywindow = np.full([buffer_size,gv.x_dim*2], np.nan) #a new variable that state estimators will have a partial access to\n",
    "    a_tilde_delaywindow = np.full([buffer_size,gv.a_dim*2], np.nan) #a new variable that state estimators will have a partial access to\n",
    "\n",
    "\n",
    "    x_tilde_record = np.full([last_frm+buffer_size,gv.x_dim*2], np.nan) #changed\n",
    "    somato_record = np.full([last_frm+buffer_size,gv.a_dim*2], np.nan) #changed\n",
    "    formant_record = np.full([last_frm+buffer_size,3], np.nan) #changed\n",
    "    a_tilde_record = np.full([last_frm+buffer_size,gv.a_dim*2], np.nan) #changed\n",
    "    formants_produced_record = np.full([last_frm,3], np.nan)\n",
    "\n",
    "    x_tilde_record_alltrials = np.empty([ntrials,last_frm+buffer_size,gv.x_dim]) #changed\n",
    "    somato_record_alltrials = np.full([ntrials,last_frm+buffer_size,gv.a_dim*2], np.nan) #changed\n",
    "    formant_record_alltrials = np.full([ntrials,last_frm+buffer_size,3], np.nan) #changed\n",
    "    shift_record_alltrials = np.full([ntrials,last_frm+buffer_size,3], np.nan) #changed\n",
    "    formants_produced_record_alltrials = np.full([ntrials,last_frm,3], np.nan)\n",
    "\n",
    "    \n",
    "    a_tilde_record_alltrials = np.empty([ntrials,last_frm+buffer_size,gv.a_dim])\n",
    "    a_dot_record_alltrials = np.empty([ntrials,last_frm+buffer_size,gv.a_dim])\n",
    "    a_dotdot_record_alltrials = np.empty([ntrials,last_frm+buffer_size,gv.a_dim])\n",
    "    predict_formant_record_alltrials = np.empty([ntrials,last_frm+buffer_size,3])\n",
    "\n",
    "    pdb.set_trace()\n",
    "    #Check if catch trials (no perturbation) are specified in the config file\n",
    "    if 'CatchTrials' in config.keys():\n",
    "        catch_trials = string2dtype_array(config['CatchTrials']['catch_trials'], dtype='int')\n",
    "        catch_types = string2dtype_array(config['CatchTrials']['catch_types'], dtype='int')\n",
    "        if len(catch_trials) != len(catch_types):\n",
    "            raise Exception(\"Catch trial and catch type lengths not matching, please check the config file.\")\n",
    "    else: catch_trials = np.array([])\n",
    "\n",
    "    #Run FACTS for each trial\n",
    "    for trial in range(ntrials):\n",
    "        #print(\"trial:\", trial)\n",
    "        #Gestural score (task)\n",
    "        GestScore, ART, ms_frm, last_frm = MakeGestScore(gFile,target_noise)         #this is similar with MakeGest in the matlab version\n",
    "\n",
    "        # initial condition\n",
    "        x_tilde_delaywindow[0] = string2dtype_array(config['InitialCondition']['x_tilde_init'],'float')\n",
    "        a_tilde_delaywindow[0] = string2dtype_array(config['InitialCondition']['a_tilde_init'],'float')\n",
    "        x_tilde_record[0] = string2dtype_array(config['InitialCondition']['x_tilde_init'],'float')\n",
    "        a_tilde_record[0] = string2dtype_array(config['InitialCondition']['a_tilde_init'],'float')\n",
    "        a_actual = string2dtype_array(config['InitialCondition']['a_tilde_init'],'float')\n",
    "        model.artic_sfc_law.reset_prejb() #save the initial artic-to-task model.\n",
    "\n",
    "        if trial in catch_trials: catch = catch_types[np.where(catch_trials==trial)[0][0]]\n",
    "        else: catch = False\n",
    "        #print(\"catch:\", catch)\n",
    "        \n",
    "        for i_frm in range(last_frm): #gotta change this hardcoded number to aud delay later\n",
    "            #model function runs FACTS by each frame\n",
    "            x_tilde_delaywindow, a_tilde_delaywindow, a_actual, somato_record, formant_record, adotdot, y_hat, formants_produced = model.run_one_timestep(x_tilde_delaywindow, a_tilde_delaywindow, a_actual, somato_record, formant_record, GestScore, ART, ms_frm, i_frm, trial, catch)\n",
    "            if (formants_produced == -1).all():\n",
    "                formants_produced_record[i_frm:] = [-1, -1, -1]\n",
    "                a_tilde_record[i_frm:] = np.tile(-10000, 12)\n",
    "                x_tilde_record[i_frm:] = np.tile(-10000, 14)\n",
    "                break\n",
    "            else:\n",
    "                a_tilde_record[i_frm+1] = a_tilde_delaywindow[0,:] #0 is always the most recnet current frame\n",
    "                x_tilde_record[i_frm+1] = x_tilde_delaywindow[0,:] #0 is always the most recnet current frame\n",
    "                formants_produced_record[i_frm] = formants_produced \n",
    "            \n",
    "        \n",
    "        predict_formant_record_alltrials[trial,] = y_hat\n",
    "        formants_produced_record_alltrials[trial,] = formants_produced_record\n",
    "        \n",
    "        a_tilde_record_alltrials[trial,] = a_tilde_record[:,0:gv.a_dim]\n",
    "        #a_dot_record[trial, ] = a_tilde[gv.a_dim:]\n",
    "        x_tilde_record_alltrials[trial,] = x_tilde_record[:,0:gv.x_dim]\n",
    "        formant_record_alltrials[trial,] = formant_record\n",
    "        somato_record_alltrials[trial,] = somato_record\n",
    "        \n",
    "        model.task_state_estimator.update(catch)\n",
    "        \n",
    "        del x_tilde_record\n",
    "        del a_tilde_record\n",
    "        del formant_record\n",
    "        del somato_record\n",
    "#     pdb.set_trace()\n",
    "    return formants_produced_record_alltrials[:,:,0].squeeze() \n",
    "\n"
   ]
  },
  {
   "cell_type": "code",
   "execution_count": 4,
   "id": "3a381e8d",
   "metadata": {},
   "outputs": [
    {
     "name": "stdout",
     "output_type": "stream",
     "text": [
      "self.Aud_delay 17\n",
      "> \u001b[0;32m/var/folders/7n/wgjmy2fx5dd5gczm516m_tdm0000gn/T/ipykernel_97871/34196940.py\u001b[0m(87)\u001b[0;36mFACTS\u001b[0;34m()\u001b[0m\n",
      "\u001b[0;32m     85 \u001b[0;31m    \u001b[0mpdb\u001b[0m\u001b[0;34m.\u001b[0m\u001b[0mset_trace\u001b[0m\u001b[0;34m(\u001b[0m\u001b[0;34m)\u001b[0m\u001b[0;34m\u001b[0m\u001b[0;34m\u001b[0m\u001b[0m\n",
      "\u001b[0m\u001b[0;32m     86 \u001b[0;31m    \u001b[0;31m#Check if catch trials (no perturbation) are specified in the config file\u001b[0m\u001b[0;34m\u001b[0m\u001b[0;34m\u001b[0m\u001b[0;34m\u001b[0m\u001b[0m\n",
      "\u001b[0m\u001b[0;32m---> 87 \u001b[0;31m    \u001b[0;32mif\u001b[0m \u001b[0;34m'CatchTrials'\u001b[0m \u001b[0;32min\u001b[0m \u001b[0mconfig\u001b[0m\u001b[0;34m.\u001b[0m\u001b[0mkeys\u001b[0m\u001b[0;34m(\u001b[0m\u001b[0;34m)\u001b[0m\u001b[0;34m:\u001b[0m\u001b[0;34m\u001b[0m\u001b[0;34m\u001b[0m\u001b[0m\n",
      "\u001b[0m\u001b[0;32m     88 \u001b[0;31m        \u001b[0mcatch_trials\u001b[0m \u001b[0;34m=\u001b[0m \u001b[0mstring2dtype_array\u001b[0m\u001b[0;34m(\u001b[0m\u001b[0mconfig\u001b[0m\u001b[0;34m[\u001b[0m\u001b[0;34m'CatchTrials'\u001b[0m\u001b[0;34m]\u001b[0m\u001b[0;34m[\u001b[0m\u001b[0;34m'catch_trials'\u001b[0m\u001b[0;34m]\u001b[0m\u001b[0;34m,\u001b[0m \u001b[0mdtype\u001b[0m\u001b[0;34m=\u001b[0m\u001b[0;34m'int'\u001b[0m\u001b[0;34m)\u001b[0m\u001b[0;34m\u001b[0m\u001b[0;34m\u001b[0m\u001b[0m\n",
      "\u001b[0m\u001b[0;32m     89 \u001b[0;31m        \u001b[0mcatch_types\u001b[0m \u001b[0;34m=\u001b[0m \u001b[0mstring2dtype_array\u001b[0m\u001b[0;34m(\u001b[0m\u001b[0mconfig\u001b[0m\u001b[0;34m[\u001b[0m\u001b[0;34m'CatchTrials'\u001b[0m\u001b[0;34m]\u001b[0m\u001b[0;34m[\u001b[0m\u001b[0;34m'catch_types'\u001b[0m\u001b[0;34m]\u001b[0m\u001b[0;34m,\u001b[0m \u001b[0mdtype\u001b[0m\u001b[0;34m=\u001b[0m\u001b[0;34m'int'\u001b[0m\u001b[0;34m)\u001b[0m\u001b[0;34m\u001b[0m\u001b[0;34m\u001b[0m\u001b[0m\n",
      "\u001b[0m\n",
      "ipdb> c\n"
     ]
    },
    {
     "data": {
      "text/plain": [
       "[<matplotlib.lines.Line2D at 0x7fbed8d1e250>]"
      ]
     },
     "execution_count": 4,
     "metadata": {},
     "output_type": "execute_result"
    },
    {
     "data": {
      "image/png": "[encoded data removed]",
      "text/plain": [
       "<Figure size 432x288 with 1 Axes>"
      ]
     },
     "metadata": {
      "needs_background": "light"
     },
     "output_type": "display_data"
    }
   ],
   "source": [
    "original_theta = torch.from_numpy(np.array([0.005, 0.005, 0.01, 0.1, 0.0000001, 0.0000001, 85, 75, 3]))\n",
    "# test_theta = torch.from_numpy(np.array([0.0188, 0.05, 2.4, 2.6, 0.0000001, 0.0000001, 100, 50, 4]))\n",
    "\n",
    "simulated_test = FACTS(original_theta)\n",
    "x_time = np.linspace(-200,500, num=150)\n",
    "plt.plot(x_time, simulated_test)"
   ]
  },
  {
   "cell_type": "code",
   "execution_count": null,
   "id": "df741f60",
   "metadata": {},
   "outputs": [],
   "source": []
  }
 ],
 "metadata": {
  "kernelspec": {
   "display_name": "Python 3 (ipykernel)",
   "language": "python",
   "name": "python3"
  },
  "language_info": {
   "codemirror_mode": {
    "name": "ipython",
    "version": 3
   },
   "file_extension": ".py",
   "mimetype": "text/x-python",
   "name": "python",
   "nbconvert_exporter": "python",
   "pygments_lexer": "ipython3",
   "version": "3.7.13"
  },
  "varInspector": {
   "cols": {
    "lenName": 16,
    "lenType": 16,
    "lenVar": 40
   },
   "kernels_config": {
    "python": {
     "delete_cmd_postfix": "",
     "delete_cmd_prefix": "del ",
     "library": "var_list.py",
     "varRefreshCmd": "print(var_dic_list())"
    },
    "r": {
     "delete_cmd_postfix": ") ",
     "delete_cmd_prefix": "rm(",
     "library": "var_list.r",
     "varRefreshCmd": "cat(var_dic_list()) "
    }
   },
   "types_to_exclude": [
    "module",
    "function",
    "builtin_function_or_method",
    "instance",
    "_Feature"
   ],
   "window_display": false
  }
 },
 "nbformat": 4,
 "nbformat_minor": 5
}
