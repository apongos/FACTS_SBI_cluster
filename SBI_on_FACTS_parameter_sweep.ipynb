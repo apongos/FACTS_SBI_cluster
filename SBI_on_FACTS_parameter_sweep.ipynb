{
 "cells": [
  {
   "cell_type": "code",
   "execution_count": 9,
   "id": "b0f1cf56",
   "metadata": {},
   "outputs": [],
   "source": [
    "import sys\n",
    "import torch\n",
    "import global_variables as gv\n",
    "import sys\n",
    "import numpy as np\n",
    "import matplotlib.pyplot as plt\n",
    "import configparser\n",
    "from FACTS_Modules.Model import model_factory\n",
    "from FACTS_Modules.util import string2dtype_array\n",
    "from FACTS_Modules.TADA import MakeGestScore\n",
    "from facts_visualizations import single_trial_plots, multi_trial_plots\n",
    "import os \n",
    "import pdb\n",
    "import seaborn as sns"
   ]
  },
  {
   "cell_type": "code",
   "execution_count": 10,
   "id": "37634f52",
   "metadata": {},
   "outputs": [],
   "source": [
    "def simulator(theta):\n",
    "    ini='DesignC_AUKF_onlinepertdelay.ini'\n",
    "    gFile='GesturalScores/KimetalOnlinepert2.G'\n",
    "    config = configparser.ConfigParser()\n",
    "    config.read(ini)\n",
    "\n",
    "    # Replace the parameter value from ini file\n",
    "    #pdb.set_trace()\n",
    "    try:\n",
    "        if theta.dim() > 1:\n",
    "#             pdb.set_trace()\n",
    "            print(theta.numel())\n",
    "            config['SensoryNoise']['Auditory_sensor_scale'] = str(theta[0][0].item())\n",
    "            config['SensoryNoise']['Somato_sensor_scale'] = str(theta[0][1].item())\n",
    "        else:\n",
    "            #pdb.set_trace()\n",
    "            config['SensoryNoise']['Auditory_sensor_scale'] = str(theta[0].item())\n",
    "            config['SensoryNoise']['Somato_sensor_scale'] = str(theta[1].item())\n",
    "    except:\n",
    "        pdb.set_trace()\n",
    "\n",
    "    model = model_factory(config)\n",
    "    #pdb.set_trace()\n",
    "    if 'MultTrials' in config.sections(): \n",
    "        ntrials = int(config['MultTrials']['ntrials'])\n",
    "        target_noise= float(config['MultTrials']['Target_noise'])\n",
    "    else: \n",
    "        ntrials = 1\n",
    "        target_noise = 0\n",
    "\n",
    "    #pdb.set_trace()\n",
    "    gest_name = gFile.split('/')[-1].split('/')[-1]\n",
    "    np.random.seed(100)\n",
    "    GestScore, ART, ms_frm, last_frm = MakeGestScore(gFile,target_noise)\n",
    "    \n",
    "    # initialize vectors to monitor position at each timestep\n",
    "    x_tilde_delaywindow = np.full([20,gv.x_dim*2], np.nan) #a new variable that state estimators will have a partial access to\n",
    "    a_tilde_delaywindow = np.full([20,gv.a_dim*2], np.nan) #a new variable that state estimators will have a partial access to\n",
    "\n",
    "\n",
    "    x_tilde_record = np.full([last_frm+20,gv.x_dim*2], np.nan) #changed\n",
    "    somato_record = np.full([last_frm+20,gv.a_dim*2], np.nan) #changed\n",
    "    formant_record = np.full([last_frm+20,3], np.nan) #changed\n",
    "    a_tilde_record = np.full([last_frm+20,gv.a_dim*2], np.nan) #changed\n",
    "    formants_produced_record = np.full([last_frm,3], np.nan)\n",
    "\n",
    "    x_tilde_record_alltrials = np.empty([ntrials,last_frm+20,gv.x_dim]) #changed\n",
    "    somato_record_alltrials = np.full([ntrials,last_frm+20,gv.a_dim*2], np.nan) #changed\n",
    "    formant_record_alltrials = np.full([ntrials,last_frm+20,3], np.nan) #changed\n",
    "    shift_record_alltrials = np.full([ntrials,last_frm+20,3], np.nan) #changed\n",
    "    formants_produced_record_alltrials = np.full([ntrials,last_frm,3], np.nan)\n",
    "\n",
    "    \n",
    "    a_tilde_record_alltrials = np.empty([ntrials,last_frm+20,gv.a_dim])\n",
    "    a_dot_record_alltrials = np.empty([ntrials,last_frm+20,gv.a_dim])\n",
    "    a_dotdot_record_alltrials = np.empty([ntrials,last_frm+20,gv.a_dim])\n",
    "    predict_formant_record_alltrials = np.empty([ntrials,last_frm+20,3])\n",
    "\n",
    "    #Check if catch trials (no perturbation) are specified in the config file\n",
    "    if 'CatchTrials' in config.keys():\n",
    "        catch_trials = string2dtype_array(config['CatchTrials']['catch_trials'], dtype='int')\n",
    "        catch_types = string2dtype_array(config['CatchTrials']['catch_types'], dtype='int')\n",
    "        if len(catch_trials) != len(catch_types):\n",
    "            raise Exception(\"Catch trial and catch type lengths not matching, please check the config file.\")\n",
    "    else: catch_trials = np.array([])\n",
    "\n",
    "    #Run FACTS for each trial\n",
    "    for trial in range(ntrials):\n",
    "        print(\"trial:\", trial)\n",
    "        #Gestural score (task)\n",
    "        GestScore, ART, ms_frm, last_frm = MakeGestScore(gFile,target_noise)         #this is similar with MakeGest in the matlab version\n",
    "\n",
    "        # initial condition\n",
    "        x_tilde_delaywindow[0] = string2dtype_array(config['InitialCondition']['x_tilde_init'],'float')\n",
    "        a_tilde_delaywindow[0] = string2dtype_array(config['InitialCondition']['a_tilde_init'],'float')\n",
    "        x_tilde_record[0] = string2dtype_array(config['InitialCondition']['x_tilde_init'],'float')\n",
    "        a_tilde_record[0] = string2dtype_array(config['InitialCondition']['a_tilde_init'],'float')\n",
    "        a_actual = string2dtype_array(config['InitialCondition']['a_tilde_init'],'float')\n",
    "        model.artic_sfc_law.reset_prejb() #save the initial artic-to-task model.\n",
    "\n",
    "        if trial in catch_trials: catch = catch_types[np.where(catch_trials==trial)[0][0]]\n",
    "        else: catch = False\n",
    "        print(\"catch:\", catch)\n",
    "        \n",
    "        for i_frm in range(last_frm): #gotta change this hardcoded number to aud delay later\n",
    "            #model function runs FACTS by each frame\n",
    "            x_tilde_delaywindow, a_tilde_delaywindow, a_actual, somato_record, formant_record, adotdot, y_hat, formants_produced = model.run_one_timestep(x_tilde_delaywindow, a_tilde_delaywindow, a_actual, somato_record, formant_record, GestScore, ART, ms_frm, i_frm, trial, catch)\n",
    "            a_tilde_record[i_frm+1] = a_tilde_delaywindow[0,:] #0 is always the most recnet current frame\n",
    "            x_tilde_record[i_frm+1] = x_tilde_delaywindow[0,:] #0 is always the most recnet current frame\n",
    "            formants_produced_record[i_frm] = formants_produced\n",
    "            #pdb.set_trace()\n",
    "           #save the FACTS results\n",
    "            \n",
    "        \n",
    "        predict_formant_record_alltrials[trial,] = y_hat\n",
    "        formants_produced_record_alltrials[trial,] = formants_produced_record\n",
    "        \n",
    "        a_tilde_record_alltrials[trial,] = a_tilde_record[:,0:gv.a_dim]\n",
    "        #a_dot_record[trial, ] = a_tilde[gv.a_dim:]\n",
    "        x_tilde_record_alltrials[trial,] = x_tilde_record[:,0:gv.x_dim]\n",
    "        formant_record_alltrials[trial,] = formant_record\n",
    "        somato_record_alltrials[trial,] = somato_record\n",
    "        \n",
    "        model.task_state_estimator.update(catch)\n",
    "        \n",
    "        del x_tilde_record\n",
    "        del a_tilde_record\n",
    "        del formant_record\n",
    "        del somato_record\n",
    "    #pdb.set_trace()\n",
    "    return formants_produced_record_alltrials[:,:,0].squeeze() \n"
   ]
  },
  {
   "cell_type": "markdown",
   "id": "b0c7fb52",
   "metadata": {},
   "source": [
    "### Run an example trial, or do a parameter sweep\n",
    "\n",
    "Auditory:\n",
    "High - 0.04\n",
    "Low - 0.0001\n",
    "\n",
    "Somatosensory:\n",
    "High - 10\n",
    "Low - .002\n"
   ]
  },
  {
   "cell_type": "code",
   "execution_count": 11,
   "id": "84986685",
   "metadata": {
    "scrolled": true
   },
   "outputs": [
    {
     "name": "stdout",
     "output_type": "stream",
     "text": [
      "param_value [0.0018, -0.1]\n",
      "2\n",
      "Artic SFC Law Model Type:  lwpr\n",
      "[0.95759998 3.16619995 4.66019992]\n",
      "[-3999999.00062613   166666.66669271   166666.66669271   166666.66669271\n",
      "   166666.66669271   166666.66669271   166666.66669271   166666.66669271\n",
      "   166666.66669271   166666.66669271   166666.66669271   166666.66669271\n",
      "   166666.66669271   166666.66669271   166666.66669271   166666.66669271\n",
      "   166666.66669271   166666.66669271   166666.66669271   166666.66669271\n",
      "   166666.66669271   166666.66669271   166666.66669271   166666.66669271\n",
      "   166666.66669271]\n",
      "Task State Estimator Model Type:  lwpr\n",
      "trial: 0\n",
      "catch: False\n"
     ]
    },
    {
     "data": {
      "image/png": "[encoded data removed]",
      "text/plain": [
       "<Figure size 432x288 with 1 Axes>"
      ]
     },
     "metadata": {
      "needs_background": "light"
     },
     "output_type": "display_data"
    }
   ],
   "source": [
    "# Print an example trial \n",
    "examples = []\n",
    "# mu1 = 0.005\n",
    "param_values = [ [0.0018, -0.1] ] #np.linspace(4, 10, num=10)\n",
    "plot = True\n",
    "\n",
    "for ii in param_values:\n",
    "    print(f\"param_value {ii}\")\n",
    "    example = simulator(torch.tensor([ii]))\n",
    "    examples.append(example)\n",
    "    \n",
    "    if plot == True:\n",
    "        plt.figure()\n",
    "        plt.title(f'FACTS param_value {ii}')\n",
    "        example_x = (np.arange(len(example))*5)-200\n",
    "        plt.plot(example_x,example)\n",
    "        plt.axvline(x = 0, color = 'grey', ls=':')\n",
    "        plt.xlabel('Time (ms)')\n",
    "        plt.ylabel('F1 HZ')\n",
    "        plt.show()\n",
    "        \n"
   ]
  },
  {
   "cell_type": "markdown",
   "id": "3d1024f8",
   "metadata": {},
   "source": [
    "### Load Kyunghee's data and compare to FACTS"
   ]
  },
  {
   "cell_type": "code",
   "execution_count": 12,
   "id": "15062673",
   "metadata": {
    "scrolled": false
   },
   "outputs": [
    {
     "name": "stdout",
     "output_type": "stream",
     "text": [
      "(1, 194)\n",
      "(1797, 194)\n",
      "(1, 150)\n",
      "(1797, 150)\n"
     ]
    },
    {
     "data": {
      "text/plain": [
       "Text(0, 0.5, 'F1 HZ')"
      ]
     },
     "execution_count": 12,
     "metadata": {},
     "output_type": "execute_result"
    },
    {
     "data": {
      "image/png": "[encoded data removed]",
      "text/plain": [
       "<Figure size 432x288 with 1 Axes>"
      ]
     },
     "metadata": {
      "needs_background": "light"
     },
     "output_type": "display_data"
    },
    {
     "data": {
      "image/png": "[encoded data removed]",
      "text/plain": [
       "<Figure size 432x288 with 1 Axes>"
      ]
     },
     "metadata": {
      "needs_background": "light"
     },
     "output_type": "display_data"
    },
    {
     "data": {
      "image/png": "[encoded data removed]",
      "text/plain": [
       "<Figure size 432x288 with 1 Axes>"
      ]
     },
     "metadata": {
      "needs_background": "light"
     },
     "output_type": "display_data"
    }
   ],
   "source": [
    "# Import real observed data\n",
    "import scipy.io\n",
    "example = examples[0]\n",
    "\n",
    "trial_cells_times = scipy.io.loadmat('sbi_resources/formant_pert_time_cleaned.mat')['time_matrix'].T\n",
    "trial_cells_mat = scipy.io.loadmat('sbi_resources/formant_pert_data_cleaned.mat')['cleaned_matrix'].T # 1797 x 194 == trials by time\n",
    "\n",
    "print(trial_cells_times.shape)\n",
    "print(trial_cells_mat.shape)\n",
    "trial_cells_times = trial_cells_times[:,0:150]\n",
    "trial_cells_mat = trial_cells_mat[:,0:150]\n",
    "print(trial_cells_times.shape)\n",
    "print(trial_cells_mat.shape)\n",
    "\n",
    "# # Alter the trial_cells so that they center to where FACTS centers\n",
    "trial_cells_mat = trial_cells_mat + 531\n",
    "\n",
    "# Plot and compare observed data to FACTS data\n",
    "plt.plot(trial_cells_times[0,:]*1000, trial_cells_mat[729,:])\n",
    "plt.axvline(x = 0, color = 'grey', ls=':')\n",
    "plt.title('A single real observation: Kyunghee dataset')\n",
    "# plt.ylim([510,535])\n",
    "\n",
    "plt.figure()\n",
    "plt.plot(trial_cells_times[0,:]*1000, np.mean(trial_cells_mat, 0))\n",
    "plt.axvline(x = 0, color = 'grey', ls=':')\n",
    "plt.title(f'Mean real observations N:{(trial_cells_mat.shape[0])}')\n",
    "# plt.ylim([510,535])\n",
    "\n",
    "# # Now realign so that \n",
    "plt.figure()\n",
    "plt.title('FACTS')\n",
    "example_x = (np.arange(len(example))*5)-200\n",
    "plt.plot(example_x,example)\n",
    "plt.axvline(x = 0, color = 'grey', ls=':')\n",
    "plt.xlabel('Time (ms)')\n",
    "plt.ylabel('F1 HZ')\n",
    "# plt.ylim([510,535])"
   ]
  },
  {
   "cell_type": "code",
   "execution_count": 13,
   "id": "449b5eaf",
   "metadata": {},
   "outputs": [
    {
     "name": "stdout",
     "output_type": "stream",
     "text": [
      "493.03972341681293\n",
      "511.3030736359036\n"
     ]
    }
   ],
   "source": [
    "print(np.min(trial_cells_mat[729,:]))\n",
    "print(np.min(np.mean(trial_cells_mat, 0)))\n",
    "# print(np.min(example))"
   ]
  },
  {
   "cell_type": "code",
   "execution_count": 15,
   "id": "c32641cf",
   "metadata": {},
   "outputs": [
    {
     "name": "stdout",
     "output_type": "stream",
     "text": [
      "4\n",
      "Artic SFC Law Model Type:  lwpr\n",
      "[11.14117309 36.8370742  54.21897959]\n",
      "[-3999999.00062613   166666.66669271   166666.66669271   166666.66669271\n",
      "   166666.66669271   166666.66669271   166666.66669271   166666.66669271\n",
      "   166666.66669271   166666.66669271   166666.66669271   166666.66669271\n",
      "   166666.66669271   166666.66669271   166666.66669271   166666.66669271\n",
      "   166666.66669271   166666.66669271   166666.66669271   166666.66669271\n",
      "   166666.66669271   166666.66669271   166666.66669271   166666.66669271\n",
      "   166666.66669271]\n",
      "Task State Estimator Model Type:  lwpr\n",
      "trial: 0\n",
      "catch: False\n",
      "Artic SFC Law Model Type:  lwpr\n",
      "[1.84466973 6.09919936 8.97716153]\n",
      "[-3999999.00062613   166666.66669271   166666.66669271   166666.66669271\n",
      "   166666.66669271   166666.66669271   166666.66669271   166666.66669271\n",
      "   166666.66669271   166666.66669271   166666.66669271   166666.66669271\n",
      "   166666.66669271   166666.66669271   166666.66669271   166666.66669271\n",
      "   166666.66669271   166666.66669271   166666.66669271   166666.66669271\n",
      "   166666.66669271   166666.66669271   166666.66669271   166666.66669271\n",
      "   166666.66669271]\n",
      "Task State Estimator Model Type:  lwpr\n",
      "trial: 0\n",
      "catch: False\n"
     ]
    },
    {
     "data": {
      "application/vnd.jupyter.widget-view+json": {
       "model_id": "b0928babb9d745e68ba47e933615489d",
       "version_major": 2,
       "version_minor": 0
      },
      "text/plain": [
       "Running 10 simulations in 10 batches.:   0%|          | 0/10 [00:00<?, ?it/s]"
      ]
     },
     "metadata": {},
     "output_type": "display_data"
    },
    {
     "name": "stdout",
     "output_type": "stream",
     "text": [
      "Neural network successfully converged after 47 epochs.\n"
     ]
    }
   ],
   "source": [
    "from sbi.inference import infer\n",
    "from sbi import utils as utils\n",
    "import pickle\n",
    "# import facts_for_SBI\n",
    "\n",
    "load_instead = False\n",
    "\n",
    "#Auditory\n",
    "# High - 0.04\n",
    "# Low - 0.0001\n",
    "#Somatosensory\n",
    "# High - 10\n",
    "# Low - .002\n",
    "# import your simulator, define your prior over the parameters\n",
    "#prior_mean = 0.002\n",
    "prior_min= [0.0001, 0.002]\n",
    "prior_mmax = [0.04, 1.0] \n",
    "num_sim = 8\n",
    "num_workers = 4\n",
    "\n",
    "# prior = torch.distributions.Uniform(torch.as_tensor(mmin), torch.as_tensor(mmax) )\n",
    "if load_instead == False:\n",
    "    prior = utils.torchutils.BoxUniform(torch.as_tensor(prior_min), torch.as_tensor(prior_mmax) )\n",
    "    parameter_posterior = infer(simulator, prior, method='SNPE', num_simulations=num_sim, num_workers=num_workers)\n",
    "    with open(f'./sbi_resources/ModelC_auditory_soma_noise_posterior_{num_sim}.pkl', 'wb') as f:  # Python 3: open(..., 'wb')\n",
    "        pickle.dump([parameter_posterior], f)\n",
    "    \n",
    "else:\n",
    "    file = open(f'./sbi_resources/ModelC_auditory_soma_noise_posterior_{num_sim}.pkl', 'rb')\n",
    "    object_file = pickle.load(file)\n",
    "    parameter_posterior = object_file[0]\n",
    "    file.close()"
   ]
  },
  {
   "cell_type": "markdown",
   "id": "1d78db70",
   "metadata": {},
   "source": [
    "## Sample the posterior for a single point from Kyunghee's observations"
   ]
  },
  {
   "cell_type": "code",
   "execution_count": 16,
   "id": "472dcac7",
   "metadata": {},
   "outputs": [
    {
     "name": "stdout",
     "output_type": "stream",
     "text": [
      "(150,)\n",
      "\n"
     ]
    }
   ],
   "source": [
    "print(single_trial.shape)\n",
    "print()"
   ]
  },
  {
   "cell_type": "code",
   "execution_count": 17,
   "id": "4456112e",
   "metadata": {
    "scrolled": true
   },
   "outputs": [
    {
     "data": {
      "application/vnd.jupyter.widget-view+json": {
       "model_id": "930ffa44536140b39425090489c57691",
       "version_major": 2,
       "version_minor": 0
      },
      "text/plain": [
       "Drawing 10 posterior samples:   0%|          | 0/10 [00:00<?, ?it/s]"
      ]
     },
     "metadata": {},
     "output_type": "display_data"
    },
    {
     "ename": "ValueError",
     "evalue": "Expected value argument (Tensor of shape (10, 2)) to be within the support (Interval(lower_bound=tensor([1.0000e-04, 2.0000e-03]), upper_bound=tensor([0.0400, 1.0000]))) of the distribution Uniform(low: torch.Size([2]), high: torch.Size([2])), but found invalid values:\ntensor([[ 0.0230, -0.1564],\n        [ 0.0208, -3.1040],\n        [-0.0431,  5.7261],\n        [ 0.0405, -2.7726],\n        [ 0.0563, -0.4501],\n        [-0.0964,  4.9460],\n        [-0.0587,  1.6183],\n        [ 0.0179, -4.4467],\n        [-0.0286, -2.6334],\n        [ 0.0232, -7.7235]])",
     "output_type": "error",
     "traceback": [
      "\u001b[0;31m---------------------------------------------------------------------------\u001b[0m",
      "\u001b[0;31mValueError\u001b[0m                                Traceback (most recent call last)",
      "\u001b[0;32m<ipython-input-17-fa2d5516242d>\u001b[0m in \u001b[0;36m<module>\u001b[0;34m\u001b[0m\n\u001b[1;32m      5\u001b[0m \u001b[0msingle_trial\u001b[0m \u001b[0;34m=\u001b[0m \u001b[0mtrial_cells_mat\u001b[0m\u001b[0;34m[\u001b[0m\u001b[0;36m729\u001b[0m\u001b[0;34m]\u001b[0m\u001b[0;34m\u001b[0m\u001b[0;34m\u001b[0m\u001b[0m\n\u001b[1;32m      6\u001b[0m \u001b[0;34m\u001b[0m\u001b[0m\n\u001b[0;32m----> 7\u001b[0;31m \u001b[0msamples\u001b[0m \u001b[0;34m=\u001b[0m \u001b[0mparameter_posterior\u001b[0m\u001b[0;34m.\u001b[0m\u001b[0msample\u001b[0m\u001b[0;34m(\u001b[0m\u001b[0;34m(\u001b[0m\u001b[0;36m10\u001b[0m\u001b[0;34m,\u001b[0m\u001b[0;34m)\u001b[0m\u001b[0;34m,\u001b[0m \u001b[0mx\u001b[0m\u001b[0;34m=\u001b[0m\u001b[0msingle_trial\u001b[0m\u001b[0;34m)\u001b[0m\u001b[0;34m\u001b[0m\u001b[0;34m\u001b[0m\u001b[0m\n\u001b[0m\u001b[1;32m      8\u001b[0m \u001b[0mlog_probability\u001b[0m \u001b[0;34m=\u001b[0m \u001b[0mparameter_posterior\u001b[0m\u001b[0;34m.\u001b[0m\u001b[0mlog_prob\u001b[0m\u001b[0;34m(\u001b[0m\u001b[0msamples\u001b[0m\u001b[0;34m,\u001b[0m \u001b[0mx\u001b[0m\u001b[0;34m=\u001b[0m\u001b[0msingle_trial\u001b[0m\u001b[0;34m)\u001b[0m\u001b[0;34m\u001b[0m\u001b[0;34m\u001b[0m\u001b[0m\n\u001b[1;32m      9\u001b[0m \u001b[0;31m# out = utils.pairplot(samples, fig_size=(10,6), upper='kde', diag='kde')\u001b[0m\u001b[0;34m\u001b[0m\u001b[0;34m\u001b[0m\u001b[0;34m\u001b[0m\u001b[0m\n",
      "\u001b[0;32m~/opt/anaconda3/envs/facts_sbi_env/lib/python3.6/site-packages/sbi/inference/posteriors/direct_posterior.py\u001b[0m in \u001b[0;36msample\u001b[0;34m(self, sample_shape, x, show_progress_bars, sample_with_mcmc, mcmc_method, mcmc_parameters, rejection_sampling_parameters)\u001b[0m\n\u001b[1;32m    352\u001b[0m                 \u001b[0;34m**\u001b[0m\u001b[0mrejection_sampling_parameters\u001b[0m\u001b[0;34m\u001b[0m\u001b[0;34m\u001b[0m\u001b[0m\n\u001b[1;32m    353\u001b[0m                 \u001b[0;32mif\u001b[0m \u001b[0;34m(\u001b[0m\u001b[0mrejection_sampling_parameters\u001b[0m \u001b[0;32mis\u001b[0m \u001b[0;32mnot\u001b[0m \u001b[0;32mNone\u001b[0m\u001b[0;34m)\u001b[0m\u001b[0;34m\u001b[0m\u001b[0;34m\u001b[0m\u001b[0m\n\u001b[0;32m--> 354\u001b[0;31m                 \u001b[0;32melse\u001b[0m \u001b[0mself\u001b[0m\u001b[0;34m.\u001b[0m\u001b[0mrejection_sampling_parameters\u001b[0m\u001b[0;34m,\u001b[0m\u001b[0;34m\u001b[0m\u001b[0;34m\u001b[0m\u001b[0m\n\u001b[0m\u001b[1;32m    355\u001b[0m             )\n\u001b[1;32m    356\u001b[0m \u001b[0;34m\u001b[0m\u001b[0m\n",
      "\u001b[0;32m~/opt/anaconda3/envs/facts_sbi_env/lib/python3.6/site-packages/torch/autograd/grad_mode.py\u001b[0m in \u001b[0;36mdecorate_context\u001b[0;34m(*args, **kwargs)\u001b[0m\n\u001b[1;32m     26\u001b[0m         \u001b[0;32mdef\u001b[0m \u001b[0mdecorate_context\u001b[0m\u001b[0;34m(\u001b[0m\u001b[0;34m*\u001b[0m\u001b[0margs\u001b[0m\u001b[0;34m,\u001b[0m \u001b[0;34m**\u001b[0m\u001b[0mkwargs\u001b[0m\u001b[0;34m)\u001b[0m\u001b[0;34m:\u001b[0m\u001b[0;34m\u001b[0m\u001b[0;34m\u001b[0m\u001b[0m\n\u001b[1;32m     27\u001b[0m             \u001b[0;32mwith\u001b[0m \u001b[0mself\u001b[0m\u001b[0;34m.\u001b[0m\u001b[0m__class__\u001b[0m\u001b[0;34m(\u001b[0m\u001b[0;34m)\u001b[0m\u001b[0;34m:\u001b[0m\u001b[0;34m\u001b[0m\u001b[0;34m\u001b[0m\u001b[0m\n\u001b[0;32m---> 28\u001b[0;31m                 \u001b[0;32mreturn\u001b[0m \u001b[0mfunc\u001b[0m\u001b[0;34m(\u001b[0m\u001b[0;34m*\u001b[0m\u001b[0margs\u001b[0m\u001b[0;34m,\u001b[0m \u001b[0;34m**\u001b[0m\u001b[0mkwargs\u001b[0m\u001b[0;34m)\u001b[0m\u001b[0;34m\u001b[0m\u001b[0;34m\u001b[0m\u001b[0m\n\u001b[0m\u001b[1;32m     29\u001b[0m         \u001b[0;32mreturn\u001b[0m \u001b[0mcast\u001b[0m\u001b[0;34m(\u001b[0m\u001b[0mF\u001b[0m\u001b[0;34m,\u001b[0m \u001b[0mdecorate_context\u001b[0m\u001b[0;34m)\u001b[0m\u001b[0;34m\u001b[0m\u001b[0;34m\u001b[0m\u001b[0m\n\u001b[1;32m     30\u001b[0m \u001b[0;34m\u001b[0m\u001b[0m\n",
      "\u001b[0;32m~/opt/anaconda3/envs/facts_sbi_env/lib/python3.6/site-packages/sbi/utils/sbiutils.py\u001b[0m in \u001b[0;36msample_posterior_within_prior\u001b[0;34m(posterior_nn, prior, x, num_samples, show_progress_bars, warn_acceptance, sample_for_correction_factor, max_sampling_batch_size)\u001b[0m\n\u001b[1;32m    186\u001b[0m             \u001b[0msampling_batch_size\u001b[0m\u001b[0;34m,\u001b[0m \u001b[0;34m-\u001b[0m\u001b[0;36m1\u001b[0m\u001b[0;34m\u001b[0m\u001b[0;34m\u001b[0m\u001b[0m\n\u001b[1;32m    187\u001b[0m         )\n\u001b[0;32m--> 188\u001b[0;31m         \u001b[0mare_within_prior\u001b[0m \u001b[0;34m=\u001b[0m \u001b[0mtorch\u001b[0m\u001b[0;34m.\u001b[0m\u001b[0misfinite\u001b[0m\u001b[0;34m(\u001b[0m\u001b[0mprior\u001b[0m\u001b[0;34m.\u001b[0m\u001b[0mlog_prob\u001b[0m\u001b[0;34m(\u001b[0m\u001b[0mcandidates\u001b[0m\u001b[0;34m)\u001b[0m\u001b[0;34m)\u001b[0m\u001b[0;34m\u001b[0m\u001b[0;34m\u001b[0m\u001b[0m\n\u001b[0m\u001b[1;32m    189\u001b[0m         \u001b[0msamples\u001b[0m \u001b[0;34m=\u001b[0m \u001b[0mcandidates\u001b[0m\u001b[0;34m[\u001b[0m\u001b[0mare_within_prior\u001b[0m\u001b[0;34m]\u001b[0m\u001b[0;34m\u001b[0m\u001b[0;34m\u001b[0m\u001b[0m\n\u001b[1;32m    190\u001b[0m         \u001b[0maccepted\u001b[0m\u001b[0;34m.\u001b[0m\u001b[0mappend\u001b[0m\u001b[0;34m(\u001b[0m\u001b[0msamples\u001b[0m\u001b[0;34m)\u001b[0m\u001b[0;34m\u001b[0m\u001b[0;34m\u001b[0m\u001b[0m\n",
      "\u001b[0;32m~/opt/anaconda3/envs/facts_sbi_env/lib/python3.6/site-packages/torch/distributions/independent.py\u001b[0m in \u001b[0;36mlog_prob\u001b[0;34m(self, value)\u001b[0m\n\u001b[1;32m     89\u001b[0m \u001b[0;34m\u001b[0m\u001b[0m\n\u001b[1;32m     90\u001b[0m     \u001b[0;32mdef\u001b[0m \u001b[0mlog_prob\u001b[0m\u001b[0;34m(\u001b[0m\u001b[0mself\u001b[0m\u001b[0;34m,\u001b[0m \u001b[0mvalue\u001b[0m\u001b[0;34m)\u001b[0m\u001b[0;34m:\u001b[0m\u001b[0;34m\u001b[0m\u001b[0;34m\u001b[0m\u001b[0m\n\u001b[0;32m---> 91\u001b[0;31m         \u001b[0mlog_prob\u001b[0m \u001b[0;34m=\u001b[0m \u001b[0mself\u001b[0m\u001b[0;34m.\u001b[0m\u001b[0mbase_dist\u001b[0m\u001b[0;34m.\u001b[0m\u001b[0mlog_prob\u001b[0m\u001b[0;34m(\u001b[0m\u001b[0mvalue\u001b[0m\u001b[0;34m)\u001b[0m\u001b[0;34m\u001b[0m\u001b[0;34m\u001b[0m\u001b[0m\n\u001b[0m\u001b[1;32m     92\u001b[0m         \u001b[0;32mreturn\u001b[0m \u001b[0m_sum_rightmost\u001b[0m\u001b[0;34m(\u001b[0m\u001b[0mlog_prob\u001b[0m\u001b[0;34m,\u001b[0m \u001b[0mself\u001b[0m\u001b[0;34m.\u001b[0m\u001b[0mreinterpreted_batch_ndims\u001b[0m\u001b[0;34m)\u001b[0m\u001b[0;34m\u001b[0m\u001b[0;34m\u001b[0m\u001b[0m\n\u001b[1;32m     93\u001b[0m \u001b[0;34m\u001b[0m\u001b[0m\n",
      "\u001b[0;32m~/opt/anaconda3/envs/facts_sbi_env/lib/python3.6/site-packages/torch/distributions/uniform.py\u001b[0m in \u001b[0;36mlog_prob\u001b[0;34m(self, value)\u001b[0m\n\u001b[1;32m     71\u001b[0m     \u001b[0;32mdef\u001b[0m \u001b[0mlog_prob\u001b[0m\u001b[0;34m(\u001b[0m\u001b[0mself\u001b[0m\u001b[0;34m,\u001b[0m \u001b[0mvalue\u001b[0m\u001b[0;34m)\u001b[0m\u001b[0;34m:\u001b[0m\u001b[0;34m\u001b[0m\u001b[0;34m\u001b[0m\u001b[0m\n\u001b[1;32m     72\u001b[0m         \u001b[0;32mif\u001b[0m \u001b[0mself\u001b[0m\u001b[0;34m.\u001b[0m\u001b[0m_validate_args\u001b[0m\u001b[0;34m:\u001b[0m\u001b[0;34m\u001b[0m\u001b[0;34m\u001b[0m\u001b[0m\n\u001b[0;32m---> 73\u001b[0;31m             \u001b[0mself\u001b[0m\u001b[0;34m.\u001b[0m\u001b[0m_validate_sample\u001b[0m\u001b[0;34m(\u001b[0m\u001b[0mvalue\u001b[0m\u001b[0;34m)\u001b[0m\u001b[0;34m\u001b[0m\u001b[0;34m\u001b[0m\u001b[0m\n\u001b[0m\u001b[1;32m     74\u001b[0m         \u001b[0mlb\u001b[0m \u001b[0;34m=\u001b[0m \u001b[0mself\u001b[0m\u001b[0;34m.\u001b[0m\u001b[0mlow\u001b[0m\u001b[0;34m.\u001b[0m\u001b[0mle\u001b[0m\u001b[0;34m(\u001b[0m\u001b[0mvalue\u001b[0m\u001b[0;34m)\u001b[0m\u001b[0;34m.\u001b[0m\u001b[0mtype_as\u001b[0m\u001b[0;34m(\u001b[0m\u001b[0mself\u001b[0m\u001b[0;34m.\u001b[0m\u001b[0mlow\u001b[0m\u001b[0;34m)\u001b[0m\u001b[0;34m\u001b[0m\u001b[0;34m\u001b[0m\u001b[0m\n\u001b[1;32m     75\u001b[0m         \u001b[0mub\u001b[0m \u001b[0;34m=\u001b[0m \u001b[0mself\u001b[0m\u001b[0;34m.\u001b[0m\u001b[0mhigh\u001b[0m\u001b[0;34m.\u001b[0m\u001b[0mgt\u001b[0m\u001b[0;34m(\u001b[0m\u001b[0mvalue\u001b[0m\u001b[0;34m)\u001b[0m\u001b[0;34m.\u001b[0m\u001b[0mtype_as\u001b[0m\u001b[0;34m(\u001b[0m\u001b[0mself\u001b[0m\u001b[0;34m.\u001b[0m\u001b[0mlow\u001b[0m\u001b[0;34m)\u001b[0m\u001b[0;34m\u001b[0m\u001b[0;34m\u001b[0m\u001b[0m\n",
      "\u001b[0;32m~/opt/anaconda3/envs/facts_sbi_env/lib/python3.6/site-packages/torch/distributions/distribution.py\u001b[0m in \u001b[0;36m_validate_sample\u001b[0;34m(self, value)\u001b[0m\n\u001b[1;32m    287\u001b[0m         \u001b[0;32mif\u001b[0m \u001b[0;32mnot\u001b[0m \u001b[0mvalid\u001b[0m\u001b[0;34m.\u001b[0m\u001b[0mall\u001b[0m\u001b[0;34m(\u001b[0m\u001b[0;34m)\u001b[0m\u001b[0;34m:\u001b[0m\u001b[0;34m\u001b[0m\u001b[0;34m\u001b[0m\u001b[0m\n\u001b[1;32m    288\u001b[0m             raise ValueError(\n\u001b[0;32m--> 289\u001b[0;31m                 \u001b[0;34m\"Expected value argument \"\u001b[0m\u001b[0;34m\u001b[0m\u001b[0;34m\u001b[0m\u001b[0m\n\u001b[0m\u001b[1;32m    290\u001b[0m                 \u001b[0;34mf\"({type(value).__name__} of shape {tuple(value.shape)}) \"\u001b[0m\u001b[0;34m\u001b[0m\u001b[0;34m\u001b[0m\u001b[0m\n\u001b[1;32m    291\u001b[0m                 \u001b[0;34mf\"to be within the support ({repr(support)}) \"\u001b[0m\u001b[0;34m\u001b[0m\u001b[0;34m\u001b[0m\u001b[0m\n",
      "\u001b[0;31mValueError\u001b[0m: Expected value argument (Tensor of shape (10, 2)) to be within the support (Interval(lower_bound=tensor([1.0000e-04, 2.0000e-03]), upper_bound=tensor([0.0400, 1.0000]))) of the distribution Uniform(low: torch.Size([2]), high: torch.Size([2])), but found invalid values:\ntensor([[ 0.0230, -0.1564],\n        [ 0.0208, -3.1040],\n        [-0.0431,  5.7261],\n        [ 0.0405, -2.7726],\n        [ 0.0563, -0.4501],\n        [-0.0964,  4.9460],\n        [-0.0587,  1.6183],\n        [ 0.0179, -4.4467],\n        [-0.0286, -2.6334],\n        [ 0.0232, -7.7235]])"
     ]
    }
   ],
   "source": [
    "import pandas as pd\n",
    "pd.options.display.max_rows = 4000\n",
    "\n",
    "mean_trials = np.mean(trial_cells_mat, 0)\n",
    "single_trial = trial_cells_mat[729]\n",
    "\n",
    "samples = parameter_posterior.sample((10,), x=single_trial)\n",
    "log_probability = parameter_posterior.log_prob(samples, x=single_trial)\n",
    "# out = utils.pairplot(samples, fig_size=(10,6), upper='kde', diag='kde')\n",
    "test = samples.numpy()\n",
    "# print(test[0])\n",
    "n, bins, patches = plt.hist(test, density=True, bins=30)\n",
    "plt.ylabel('Density')\n",
    "plt.xlabel('Auditory noise scale')"
   ]
  },
  {
   "cell_type": "markdown",
   "id": "014746be",
   "metadata": {},
   "source": [
    "## Sample the posterior for a single data point from the FACTS model itself"
   ]
  },
  {
   "cell_type": "code",
   "execution_count": null,
   "id": "15899b30",
   "metadata": {},
   "outputs": [],
   "source": [
    "samples = parameter_posterior.sample((100,), x=example)\n",
    "log_probability = parameter_posterior.log_prob(samples, x=example)\n",
    "out = utils.pairplot(samples, fig_size=(10,6), upper='kde', diag='kde')"
   ]
  },
  {
   "cell_type": "markdown",
   "id": "70fad5a1",
   "metadata": {},
   "source": [
    "## Now plot for the mean of all trials"
   ]
  },
  {
   "cell_type": "code",
   "execution_count": null,
   "id": "442b0a94",
   "metadata": {},
   "outputs": [],
   "source": [
    "samples = parameter_posterior.sample((100,), x=mean_trials)\n",
    "log_probability = parameter_posterior.log_prob(samples, x=mean_trials)\n",
    "out = utils.pairplot(samples, fig_size=(10,6), upper='kde', diag='kde')"
   ]
  },
  {
   "cell_type": "code",
   "execution_count": null,
   "id": "a90f19d5",
   "metadata": {
    "scrolled": true
   },
   "outputs": [],
   "source": [
    "prior = utils.torchutils.BoxUniform(torch.as_tensor(prior_min), torch.as_tensor(prior_mmax) )\n",
    "\n",
    "samplesk = []\n",
    "n_samples = 10000\n",
    "for kk in range(n_samples):\n",
    "    samplesk.append(prior.sample())\n",
    "    \n",
    "print(prior)\n",
    "plt.hist(samplesk)\n",
    "plt.xlabel('Parameter Value')\n",
    "plt.ylabel('Frequency')\n",
    "plt.title(f'{n_samples} samples drawn from Box Uniform prior\\n low: 1.0000e-04; high: 0.0400')"
   ]
  },
  {
   "cell_type": "code",
   "execution_count": null,
   "id": "c1a6501c",
   "metadata": {},
   "outputs": [],
   "source": []
  }
 ],
 "metadata": {
  "kernelspec": {
   "display_name": "Python 3",
   "language": "python",
   "name": "python3"
  },
  "language_info": {
   "codemirror_mode": {
    "name": "ipython",
    "version": 3
   },
   "file_extension": ".py",
   "mimetype": "text/x-python",
   "name": "python",
   "nbconvert_exporter": "python",
   "pygments_lexer": "ipython3",
   "version": "3.6.10"
  },
  "varInspector": {
   "cols": {
    "lenName": 16,
    "lenType": 16,
    "lenVar": 40
   },
   "kernels_config": {
    "python": {
     "delete_cmd_postfix": "",
     "delete_cmd_prefix": "del ",
     "library": "var_list.py",
     "varRefreshCmd": "print(var_dic_list())"
    },
    "r": {
     "delete_cmd_postfix": ") ",
     "delete_cmd_prefix": "rm(",
     "library": "var_list.r",
     "varRefreshCmd": "cat(var_dic_list()) "
    }
   },
   "types_to_exclude": [
    "module",
    "function",
    "builtin_function_or_method",
    "instance",
    "_Feature"
   ],
   "window_display": false
  }
 },
 "nbformat": 4,
 "nbformat_minor": 5
}
